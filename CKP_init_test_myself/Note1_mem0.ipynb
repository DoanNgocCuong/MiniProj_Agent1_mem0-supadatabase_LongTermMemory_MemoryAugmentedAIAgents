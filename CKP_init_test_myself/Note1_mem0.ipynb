{
 "cells": [
  {
   "cell_type": "markdown",
   "metadata": {},
   "source": [
    "1. pip install mem0ai\n",
    "2. m0-...\n",
    "3. "
   ]
  },
  {
   "cell_type": "markdown",
   "metadata": {},
   "source": [
    "from mem0 import MemoryClient\n",
    "client = MemoryClient(api_key=\"m0-\")\n",
    "\n",
    "messages = [\n",
    "    {\"role\": \"user\", \"content\": \"Hi, I'm Alex. I'm a vegetarian and I'm allergic to nuts.\"},\n",
    "    {\"role\": \"assistant\", \"content\": \"Hello Alex! I've noted that you're a vegetarian and have a nut allergy. I'll keep this in mind for any food-related recommendations or discussions.\"}\n",
    "]\n",
    "client.add(messages, user_id=\"alex\")\n",
    "\n",
    "query = \"What can I cook for dinner tonight?\"\n",
    "client.search(query, user_id=\"alex\")\n",
    "\n",
    "Dựng 1 UI như chatgpt CÓ THỂ THEO DÕI VÀ TRACKING ĐƯỢC SHORT TERM VÀ LONG TERM đang được lưu và extract như nào? "
   ]
  }
 ],
 "metadata": {
  "language_info": {
   "name": "python"
  }
 },
 "nbformat": 4,
 "nbformat_minor": 2
}
