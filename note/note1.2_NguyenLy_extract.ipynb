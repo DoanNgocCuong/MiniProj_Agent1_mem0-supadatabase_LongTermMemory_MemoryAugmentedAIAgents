{
 "cells": [
  {
   "cell_type": "markdown",
   "metadata": {},
   "source": [
    "## Với bài dùng Langgraph thì nó có 1 hàm có sẵn phục vụ, hỗ trợ cho việc EXTRACT MEMORY. \n",
    "\n",
    "Link: [DoanNgocCuong/ai-companion---Long-Term-Memory---Memory-Augmented-AI-Agents: Meet Ava, the WhatsApp Agent](https://github.com/DoanNgocCuong/ai-companion---Long-Term-Memory---Memory-Augmented-AI-Agents)\n",
    "\n",
    "Sử dụng: LANGGRAPH + SQLite + Qdant để quản lý Short Term và Long Term. \n",
    "\n",
    "Để **Memory Extraction Node** xác định và trích xuất các thông tin quan trọng như sở thích, tên, hoặc thông tin cá nhân của người dùng từ nội dung cuộc trò chuyện, nó áp dụng các kỹ thuật xử lý ngôn ngữ tự nhiên (NLP) sau:\n",
    "\n",
    "1. **Nhận dạng thực thể có tên (Named Entity Recognition - NER):** Kỹ thuật này giúp xác định và phân loại các thực thể trong văn bản thành các nhóm như tên người, địa điểm, tổ chức, v.v. Ví dụ, trong câu \"Tôi sống ở Hà Nội và làm việc cho công ty ABC\", NER sẽ nhận diện \"Hà Nội\" là địa điểm và \"công ty ABC\" là tổ chức.\n",
    "    \n",
    "2. **Gán nhãn từ loại (Part-of-Speech Tagging):** Quá trình này gắn nhãn cho từng từ trong câu dựa trên chức năng ngữ pháp của chúng, như danh từ, động từ, tính từ, v.v. Điều này giúp hiểu rõ cấu trúc câu và mối quan hệ giữa các từ.\n",
    "    \n",
    "3. **Giải quyết đồng tham chiếu (Coreference Resolution):** Kỹ thuật này xác định khi nào các từ hoặc cụm từ khác nhau đề cập đến cùng một thực thể. Ví dụ, trong hai câu liên tiếp \"Anh ấy là một kỹ sư. Anh ấy làm việc tại Google.\", \"Anh ấy\" trong cả hai câu đều đề cập đến cùng một người.\n",
    "    \n",
    "4. **Phân tích cú pháp (Parsing):** Phân tích cấu trúc ngữ pháp của câu để hiểu cách các từ được sắp xếp và liên kết với nhau, giúp xác định mối quan hệ giữa các thành phần trong câu.\n",
    "    "
   ]
  },
  {
   "cell_type": "markdown",
   "metadata": {},
   "source": []
  },
  {
   "cell_type": "markdown",
   "metadata": {},
   "source": [
    "<think>\n",
    "Tôi sẽ so sánh code trong thư mục studio-integration-version với v3-streamlit-supabase-mem0.py để xác định những điểm khác biệt chính:\n",
    "\n",
    "1. Kiến trúc ứng dụng:\n",
    "   - studio-integration-version sử dụng FastAPI để tạo một API endpoint thay vì Streamlit UI\n",
    "   - v3-streamlit-supabase-mem0.py là ứng dụng web UI sử dụng Streamlit\n",
    "\n",
    "2. Cách xử lý người dùng:\n",
    "   - studio-integration-version sử dụng session_id và user_id để phân biệt người dùng\n",
    "   - v3-streamlit-supabase-mem0.py quản lý người dùng qua UI đăng nhập Streamlit\n",
    "\n",
    "3. Lưu trữ tin nhắn:\n",
    "   - studio-integration-version lưu tin nhắn trong bảng \"messages\" trong Supabase\n",
    "   - v3-streamlit-supabase-mem0.py chỉ lưu trong session state của Streamlit\n",
    "\n",
    "4. Sử dụng thư viện:\n",
    "   - studio-integration-version sử dụng thư viện pydantic_ai, logfire, httpx\n",
    "   - v3-streamlit-supabase-mem0.py sử dụng trực tiếp OpenAI\n",
    "\n",
    "5. Xử lý bối cảnh và lịch sử hội thoại:\n",
    "   - studio-integration-version truy vấn lịch sử hội thoại từ cơ sở dữ liệu\n",
    "   - v3-streamlit-supabase-mem0.py sử dụng session state của Streamlit\n",
    "\n",
    "Nếu muốn cải thiện v3-streamlit-supabase-mem0.py để tách riêng người dùng và thêm UI kiểm tra log, tôi sẽ tập trung vào:\n",
    "1. Lưu trữ tin nhắn trong Supabase thay vì session state\n",
    "2. Tạo trang admin riêng để xem log và thông tin\n",
    "3. Cải thiện cách quản lý phiên và phân biệt người dùng\n",
    "</think>\n",
    "\n",
    "Sau khi so sánh code trong thư mục `studio-integration-version` với file `v3-streamlit-supabase-mem0.py`, tôi thấy có những khác biệt quan trọng sau:\n",
    "\n",
    "## Khác biệt chính:\n",
    "\n",
    "1. **Kiến trúc ứng dụng**:\n",
    "   - `studio-integration-version` sử dụng FastAPI để tạo API endpoint\n",
    "   - `v3-streamlit-supabase-mem0.py` là ứng dụng web UI với Streamlit\n",
    "\n",
    "2. **Quản lý người dùng**:\n",
    "   - `studio-integration-version` sử dụng `session_id` và `user_id` để phân biệt người dùng\n",
    "   - `v3-streamlit-supabase-mem0.py` quản lý người dùng qua UI đăng nhập nhưng không tách riêng hoàn toàn\n",
    "\n",
    "3. **Lưu trữ tin nhắn và nhật ký**:\n",
    "   - `studio-integration-version` lưu tin nhắn trong bảng \"messages\" trong Supabase\n",
    "   - `v3-streamlit-supabase-mem0.py` chỉ lưu trong session state của Streamlit\n",
    "\n",
    "## Cải tiến cần thực hiện cho v3-streamlit-supabase-mem0.py:\n",
    "\n"
   ]
  }
 ],
 "metadata": {
  "language_info": {
   "name": "python"
  }
 },
 "nbformat": 4,
 "nbformat_minor": 2
}
