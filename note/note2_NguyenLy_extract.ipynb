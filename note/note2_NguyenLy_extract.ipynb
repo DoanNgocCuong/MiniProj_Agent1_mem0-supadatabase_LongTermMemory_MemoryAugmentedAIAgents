{
 "cells": [
  {
   "cell_type": "markdown",
   "metadata": {},
   "source": [
    "## Với bài dùng Langgraph thì nó có 1 hàm có sẵn phục vụ, hỗ trợ cho việc EXTRACT MEMORY. \n",
    "\n",
    "Link: [DoanNgocCuong/ai-companion---Long-Term-Memory---Memory-Augmented-AI-Agents: Meet Ava, the WhatsApp Agent](https://github.com/DoanNgocCuong/ai-companion---Long-Term-Memory---Memory-Augmented-AI-Agents)\n",
    "\n",
    "Sử dụng: LANGGRAPH + SQLite + Qdant để quản lý Short Term và Long Term. \n",
    "\n",
    "Để **Memory Extraction Node** xác định và trích xuất các thông tin quan trọng như sở thích, tên, hoặc thông tin cá nhân của người dùng từ nội dung cuộc trò chuyện, nó áp dụng các kỹ thuật xử lý ngôn ngữ tự nhiên (NLP) sau:\n",
    "\n",
    "1. **Nhận dạng thực thể có tên (Named Entity Recognition - NER):** Kỹ thuật này giúp xác định và phân loại các thực thể trong văn bản thành các nhóm như tên người, địa điểm, tổ chức, v.v. Ví dụ, trong câu \"Tôi sống ở Hà Nội và làm việc cho công ty ABC\", NER sẽ nhận diện \"Hà Nội\" là địa điểm và \"công ty ABC\" là tổ chức.\n",
    "    \n",
    "2. **Gán nhãn từ loại (Part-of-Speech Tagging):** Quá trình này gắn nhãn cho từng từ trong câu dựa trên chức năng ngữ pháp của chúng, như danh từ, động từ, tính từ, v.v. Điều này giúp hiểu rõ cấu trúc câu và mối quan hệ giữa các từ.\n",
    "    \n",
    "3. **Giải quyết đồng tham chiếu (Coreference Resolution):** Kỹ thuật này xác định khi nào các từ hoặc cụm từ khác nhau đề cập đến cùng một thực thể. Ví dụ, trong hai câu liên tiếp \"Anh ấy là một kỹ sư. Anh ấy làm việc tại Google.\", \"Anh ấy\" trong cả hai câu đều đề cập đến cùng một người.\n",
    "    \n",
    "4. **Phân tích cú pháp (Parsing):** Phân tích cấu trúc ngữ pháp của câu để hiểu cách các từ được sắp xếp và liên kết với nhau, giúp xác định mối quan hệ giữa các thành phần trong câu.\n",
    "    "
   ]
  }
 ],
 "metadata": {
  "language_info": {
   "name": "python"
  }
 },
 "nbformat": 4,
 "nbformat_minor": 2
}
